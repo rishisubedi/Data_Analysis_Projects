{
 "cells": [
  {
   "cell_type": "markdown",
   "metadata": {},
   "source": [
    "### Steps taken while gathering the data"
   ]
  },
  {
   "cell_type": "markdown",
   "metadata": {},
   "source": [
    "At first, I extract data using the following SQL commands<br>\n",
    "<i>SELECT * FROM city_data</i> <br>\n",
    "<i>SELECT * FROM city_list </i> <br>\n",
    "<i>SELECT * FROM global_data </i> <br>\n",
    "\n",
    "I have used the python and the data science libraries (seaborn, matplotlib, pandas) to analyze the dataset to familar with the syntax and workflow of the python.\n",
    "\n",
    "<h4> Finding the moving average in the dataset </h4>\n",
    "\n",
    "In this step, I used the excel to select the first ten years average temperature data to calculate the ten years moving  average to smooth the data as well as the data visualization. Then, I used the same formula in every row to calculate the required moving average."
   ]
  },
  {
   "cell_type": "markdown",
   "metadata": {},
   "source": [
    "<h3> Global Temperature vs Kathmandu City Temperature </h3>"
   ]
  },
  {
   "cell_type": "markdown",
   "metadata": {},
   "source": [
    "#### Importing necessary libraries and reading the data of global and local temperature "
   ]
  },
  {
   "cell_type": "code",
   "execution_count": 44,
   "metadata": {},
   "outputs": [],
   "source": [
    "import pandas as pd\n",
    "import seaborn as sns\n",
    "import matplotlib.pyplot as plt\n",
    "df_global = pd.read_csv(\"global_data.csv\")\n",
    "df_local = pd.read_csv('city_data.csv')"
   ]
  },
  {
   "cell_type": "markdown",
   "metadata": {},
   "source": [
    "<h4> View the five row of the data in global </h4>"
   ]
  },
  {
   "cell_type": "code",
   "execution_count": 45,
   "metadata": {},
   "outputs": [
    {
     "name": "stdout",
     "output_type": "stream",
     "text": [
      "   year  avg_temp  ten_year_ma\n",
      "0  1750      8.72          NaN\n",
      "1  1751      7.98          NaN\n",
      "2  1752      5.78          NaN\n",
      "3  1753      8.39          NaN\n",
      "4  1754      8.47          NaN\n"
     ]
    }
   ],
   "source": [
    "print(df_global.head())"
   ]
  },
  {
   "cell_type": "code",
   "execution_count": 71,
   "metadata": {},
   "outputs": [
    {
     "data": {
      "text/html": [
       "<div>\n",
       "<style scoped>\n",
       "    .dataframe tbody tr th:only-of-type {\n",
       "        vertical-align: middle;\n",
       "    }\n",
       "\n",
       "    .dataframe tbody tr th {\n",
       "        vertical-align: top;\n",
       "    }\n",
       "\n",
       "    .dataframe thead th {\n",
       "        text-align: right;\n",
       "    }\n",
       "</style>\n",
       "<table border=\"1\" class=\"dataframe\">\n",
       "  <thead>\n",
       "    <tr style=\"text-align: right;\">\n",
       "      <th></th>\n",
       "      <th>year</th>\n",
       "      <th>avg_temp</th>\n",
       "      <th>ten_year_ma</th>\n",
       "    </tr>\n",
       "  </thead>\n",
       "  <tbody>\n",
       "    <tr>\n",
       "      <th>count</th>\n",
       "      <td>266.000000</td>\n",
       "      <td>266.000000</td>\n",
       "      <td>256.000000</td>\n",
       "    </tr>\n",
       "    <tr>\n",
       "      <th>mean</th>\n",
       "      <td>1882.500000</td>\n",
       "      <td>8.369474</td>\n",
       "      <td>8.352173</td>\n",
       "    </tr>\n",
       "    <tr>\n",
       "      <th>std</th>\n",
       "      <td>76.931788</td>\n",
       "      <td>0.584747</td>\n",
       "      <td>0.445764</td>\n",
       "    </tr>\n",
       "    <tr>\n",
       "      <th>min</th>\n",
       "      <td>1750.000000</td>\n",
       "      <td>5.780000</td>\n",
       "      <td>7.236364</td>\n",
       "    </tr>\n",
       "    <tr>\n",
       "      <th>25%</th>\n",
       "      <td>1816.250000</td>\n",
       "      <td>8.082500</td>\n",
       "      <td>8.056136</td>\n",
       "    </tr>\n",
       "    <tr>\n",
       "      <th>50%</th>\n",
       "      <td>1882.500000</td>\n",
       "      <td>8.375000</td>\n",
       "      <td>8.270455</td>\n",
       "    </tr>\n",
       "    <tr>\n",
       "      <th>75%</th>\n",
       "      <td>1948.750000</td>\n",
       "      <td>8.707500</td>\n",
       "      <td>8.635909</td>\n",
       "    </tr>\n",
       "    <tr>\n",
       "      <th>max</th>\n",
       "      <td>2015.000000</td>\n",
       "      <td>9.830000</td>\n",
       "      <td>9.603636</td>\n",
       "    </tr>\n",
       "  </tbody>\n",
       "</table>\n",
       "</div>"
      ],
      "text/plain": [
       "              year    avg_temp  ten_year_ma\n",
       "count   266.000000  266.000000   256.000000\n",
       "mean   1882.500000    8.369474     8.352173\n",
       "std      76.931788    0.584747     0.445764\n",
       "min    1750.000000    5.780000     7.236364\n",
       "25%    1816.250000    8.082500     8.056136\n",
       "50%    1882.500000    8.375000     8.270455\n",
       "75%    1948.750000    8.707500     8.635909\n",
       "max    2015.000000    9.830000     9.603636"
      ]
     },
     "execution_count": 71,
     "metadata": {},
     "output_type": "execute_result"
    }
   ],
   "source": [
    "df_global.describe()"
   ]
  },
  {
   "cell_type": "code",
   "execution_count": 47,
   "metadata": {},
   "outputs": [
    {
     "data": {
      "text/plain": [
       "year            0\n",
       "avg_temp        0\n",
       "ten_year_ma    10\n",
       "dtype: int64"
      ]
     },
     "execution_count": 47,
     "metadata": {},
     "output_type": "execute_result"
    }
   ],
   "source": [
    "df_global.isnull().sum()"
   ]
  },
  {
   "cell_type": "markdown",
   "metadata": {},
   "source": [
    "### Descriptive analysis of the local data (Kathmandu)"
   ]
  },
  {
   "cell_type": "code",
   "execution_count": 92,
   "metadata": {},
   "outputs": [
    {
     "data": {
      "text/html": [
       "<div>\n",
       "<style scoped>\n",
       "    .dataframe tbody tr th:only-of-type {\n",
       "        vertical-align: middle;\n",
       "    }\n",
       "\n",
       "    .dataframe tbody tr th {\n",
       "        vertical-align: top;\n",
       "    }\n",
       "\n",
       "    .dataframe thead th {\n",
       "        text-align: right;\n",
       "    }\n",
       "</style>\n",
       "<table border=\"1\" class=\"dataframe\">\n",
       "  <thead>\n",
       "    <tr style=\"text-align: right;\">\n",
       "      <th></th>\n",
       "      <th>year</th>\n",
       "      <th>avg_temp</th>\n",
       "      <th>ten_year_ma</th>\n",
       "    </tr>\n",
       "  </thead>\n",
       "  <tbody>\n",
       "    <tr>\n",
       "      <th>count</th>\n",
       "      <td>218.000000</td>\n",
       "      <td>206.000000</td>\n",
       "      <td>208.000000</td>\n",
       "    </tr>\n",
       "    <tr>\n",
       "      <th>mean</th>\n",
       "      <td>1904.500000</td>\n",
       "      <td>14.663592</td>\n",
       "      <td>14.625382</td>\n",
       "    </tr>\n",
       "    <tr>\n",
       "      <th>std</th>\n",
       "      <td>63.075352</td>\n",
       "      <td>0.539040</td>\n",
       "      <td>0.402169</td>\n",
       "    </tr>\n",
       "    <tr>\n",
       "      <th>min</th>\n",
       "      <td>1796.000000</td>\n",
       "      <td>13.250000</td>\n",
       "      <td>13.520000</td>\n",
       "    </tr>\n",
       "    <tr>\n",
       "      <th>25%</th>\n",
       "      <td>1850.250000</td>\n",
       "      <td>14.370000</td>\n",
       "      <td>14.396818</td>\n",
       "    </tr>\n",
       "    <tr>\n",
       "      <th>50%</th>\n",
       "      <td>1904.500000</td>\n",
       "      <td>14.655000</td>\n",
       "      <td>14.673636</td>\n",
       "    </tr>\n",
       "    <tr>\n",
       "      <th>75%</th>\n",
       "      <td>1958.750000</td>\n",
       "      <td>15.005000</td>\n",
       "      <td>14.879318</td>\n",
       "    </tr>\n",
       "    <tr>\n",
       "      <th>max</th>\n",
       "      <td>2013.000000</td>\n",
       "      <td>16.560000</td>\n",
       "      <td>15.540909</td>\n",
       "    </tr>\n",
       "  </tbody>\n",
       "</table>\n",
       "</div>"
      ],
      "text/plain": [
       "              year    avg_temp  ten_year_ma\n",
       "count   218.000000  206.000000   208.000000\n",
       "mean   1904.500000   14.663592    14.625382\n",
       "std      63.075352    0.539040     0.402169\n",
       "min    1796.000000   13.250000    13.520000\n",
       "25%    1850.250000   14.370000    14.396818\n",
       "50%    1904.500000   14.655000    14.673636\n",
       "75%    1958.750000   15.005000    14.879318\n",
       "max    2013.000000   16.560000    15.540909"
      ]
     },
     "execution_count": 92,
     "metadata": {},
     "output_type": "execute_result"
    }
   ],
   "source": [
    "df_kat.describe()"
   ]
  },
  {
   "cell_type": "code",
   "execution_count": 49,
   "metadata": {},
   "outputs": [
    {
     "data": {
      "text/plain": [
       "(70792, 5)"
      ]
     },
     "execution_count": 49,
     "metadata": {},
     "output_type": "execute_result"
    }
   ],
   "source": [
    "df_local.shape"
   ]
  },
  {
   "cell_type": "code",
   "execution_count": 50,
   "metadata": {},
   "outputs": [],
   "source": [
    "df_kat = df_local.loc[df_local['city'] == \"Kathmandu\"]"
   ]
  },
  {
   "cell_type": "code",
   "execution_count": 51,
   "metadata": {},
   "outputs": [
    {
     "data": {
      "text/html": [
       "<div>\n",
       "<style scoped>\n",
       "    .dataframe tbody tr th:only-of-type {\n",
       "        vertical-align: middle;\n",
       "    }\n",
       "\n",
       "    .dataframe tbody tr th {\n",
       "        vertical-align: top;\n",
       "    }\n",
       "\n",
       "    .dataframe thead th {\n",
       "        text-align: right;\n",
       "    }\n",
       "</style>\n",
       "<table border=\"1\" class=\"dataframe\">\n",
       "  <thead>\n",
       "    <tr style=\"text-align: right;\">\n",
       "      <th></th>\n",
       "      <th>year</th>\n",
       "      <th>city</th>\n",
       "      <th>country</th>\n",
       "      <th>avg_temp</th>\n",
       "      <th>ten_year_ma</th>\n",
       "    </tr>\n",
       "  </thead>\n",
       "  <tbody>\n",
       "    <tr>\n",
       "      <th>30876</th>\n",
       "      <td>1796</td>\n",
       "      <td>Kathmandu</td>\n",
       "      <td>Nepal</td>\n",
       "      <td>14.51</td>\n",
       "      <td>NaN</td>\n",
       "    </tr>\n",
       "    <tr>\n",
       "      <th>30877</th>\n",
       "      <td>1797</td>\n",
       "      <td>Kathmandu</td>\n",
       "      <td>Nepal</td>\n",
       "      <td>15.88</td>\n",
       "      <td>NaN</td>\n",
       "    </tr>\n",
       "    <tr>\n",
       "      <th>30878</th>\n",
       "      <td>1798</td>\n",
       "      <td>Kathmandu</td>\n",
       "      <td>Nepal</td>\n",
       "      <td>14.33</td>\n",
       "      <td>NaN</td>\n",
       "    </tr>\n",
       "    <tr>\n",
       "      <th>30879</th>\n",
       "      <td>1799</td>\n",
       "      <td>Kathmandu</td>\n",
       "      <td>Nepal</td>\n",
       "      <td>14.76</td>\n",
       "      <td>NaN</td>\n",
       "    </tr>\n",
       "    <tr>\n",
       "      <th>30880</th>\n",
       "      <td>1800</td>\n",
       "      <td>Kathmandu</td>\n",
       "      <td>Nepal</td>\n",
       "      <td>14.69</td>\n",
       "      <td>NaN</td>\n",
       "    </tr>\n",
       "    <tr>\n",
       "      <th>30881</th>\n",
       "      <td>1801</td>\n",
       "      <td>Kathmandu</td>\n",
       "      <td>Nepal</td>\n",
       "      <td>14.26</td>\n",
       "      <td>NaN</td>\n",
       "    </tr>\n",
       "    <tr>\n",
       "      <th>30882</th>\n",
       "      <td>1802</td>\n",
       "      <td>Kathmandu</td>\n",
       "      <td>Nepal</td>\n",
       "      <td>15.10</td>\n",
       "      <td>NaN</td>\n",
       "    </tr>\n",
       "    <tr>\n",
       "      <th>30883</th>\n",
       "      <td>1803</td>\n",
       "      <td>Kathmandu</td>\n",
       "      <td>Nepal</td>\n",
       "      <td>14.85</td>\n",
       "      <td>NaN</td>\n",
       "    </tr>\n",
       "    <tr>\n",
       "      <th>30884</th>\n",
       "      <td>1804</td>\n",
       "      <td>Kathmandu</td>\n",
       "      <td>Nepal</td>\n",
       "      <td>15.15</td>\n",
       "      <td>NaN</td>\n",
       "    </tr>\n",
       "    <tr>\n",
       "      <th>30885</th>\n",
       "      <td>1805</td>\n",
       "      <td>Kathmandu</td>\n",
       "      <td>Nepal</td>\n",
       "      <td>14.78</td>\n",
       "      <td>NaN</td>\n",
       "    </tr>\n",
       "  </tbody>\n",
       "</table>\n",
       "</div>"
      ],
      "text/plain": [
       "       year       city country  avg_temp  ten_year_ma\n",
       "30876  1796  Kathmandu   Nepal     14.51          NaN\n",
       "30877  1797  Kathmandu   Nepal     15.88          NaN\n",
       "30878  1798  Kathmandu   Nepal     14.33          NaN\n",
       "30879  1799  Kathmandu   Nepal     14.76          NaN\n",
       "30880  1800  Kathmandu   Nepal     14.69          NaN\n",
       "30881  1801  Kathmandu   Nepal     14.26          NaN\n",
       "30882  1802  Kathmandu   Nepal     15.10          NaN\n",
       "30883  1803  Kathmandu   Nepal     14.85          NaN\n",
       "30884  1804  Kathmandu   Nepal     15.15          NaN\n",
       "30885  1805  Kathmandu   Nepal     14.78          NaN"
      ]
     },
     "execution_count": 51,
     "metadata": {},
     "output_type": "execute_result"
    }
   ],
   "source": [
    "df_kat.iloc[:10,:]"
   ]
  },
  {
   "cell_type": "code",
   "execution_count": 52,
   "metadata": {},
   "outputs": [
    {
     "data": {
      "text/plain": [
       "218"
      ]
     },
     "execution_count": 52,
     "metadata": {},
     "output_type": "execute_result"
    }
   ],
   "source": [
    "df_kat['city'].isnull().count()"
   ]
  },
  {
   "cell_type": "code",
   "execution_count": 53,
   "metadata": {},
   "outputs": [],
   "source": [
    "df_calif = df_local.loc[df_local['city']==\"Miami\"]"
   ]
  },
  {
   "cell_type": "code",
   "execution_count": 54,
   "metadata": {},
   "outputs": [
    {
     "data": {
      "text/html": [
       "<div>\n",
       "<style scoped>\n",
       "    .dataframe tbody tr th:only-of-type {\n",
       "        vertical-align: middle;\n",
       "    }\n",
       "\n",
       "    .dataframe tbody tr th {\n",
       "        vertical-align: top;\n",
       "    }\n",
       "\n",
       "    .dataframe thead th {\n",
       "        text-align: right;\n",
       "    }\n",
       "</style>\n",
       "<table border=\"1\" class=\"dataframe\">\n",
       "  <thead>\n",
       "    <tr style=\"text-align: right;\">\n",
       "      <th></th>\n",
       "      <th>year</th>\n",
       "      <th>city</th>\n",
       "      <th>country</th>\n",
       "      <th>avg_temp</th>\n",
       "      <th>ten_year_ma</th>\n",
       "    </tr>\n",
       "  </thead>\n",
       "  <tbody>\n",
       "    <tr>\n",
       "      <th>41041</th>\n",
       "      <td>1758</td>\n",
       "      <td>Miami</td>\n",
       "      <td>United States</td>\n",
       "      <td>23.05</td>\n",
       "      <td>NaN</td>\n",
       "    </tr>\n",
       "    <tr>\n",
       "      <th>41042</th>\n",
       "      <td>1759</td>\n",
       "      <td>Miami</td>\n",
       "      <td>United States</td>\n",
       "      <td>22.56</td>\n",
       "      <td>NaN</td>\n",
       "    </tr>\n",
       "    <tr>\n",
       "      <th>41043</th>\n",
       "      <td>1760</td>\n",
       "      <td>Miami</td>\n",
       "      <td>United States</td>\n",
       "      <td>15.14</td>\n",
       "      <td>NaN</td>\n",
       "    </tr>\n",
       "    <tr>\n",
       "      <th>41044</th>\n",
       "      <td>1761</td>\n",
       "      <td>Miami</td>\n",
       "      <td>United States</td>\n",
       "      <td>NaN</td>\n",
       "      <td>NaN</td>\n",
       "    </tr>\n",
       "    <tr>\n",
       "      <th>41045</th>\n",
       "      <td>1762</td>\n",
       "      <td>Miami</td>\n",
       "      <td>United States</td>\n",
       "      <td>NaN</td>\n",
       "      <td>NaN</td>\n",
       "    </tr>\n",
       "  </tbody>\n",
       "</table>\n",
       "</div>"
      ],
      "text/plain": [
       "       year   city        country  avg_temp  ten_year_ma\n",
       "41041  1758  Miami  United States     23.05          NaN\n",
       "41042  1759  Miami  United States     22.56          NaN\n",
       "41043  1760  Miami  United States     15.14          NaN\n",
       "41044  1761  Miami  United States       NaN          NaN\n",
       "41045  1762  Miami  United States       NaN          NaN"
      ]
     },
     "execution_count": 54,
     "metadata": {},
     "output_type": "execute_result"
    }
   ],
   "source": [
    "df_calif.head()"
   ]
  },
  {
   "cell_type": "markdown",
   "metadata": {},
   "source": [
    "<h4>218 average temperature values are missing in the dataset.</h4>\n",
    "<h4>In the columns <i>ten_year_ma</i>, there are the 218 number of null values. The null values indicated that the temperature is not recorded or stored in the dataset. Running average is calculated for the span of the 10 years running from <i>1796 to 2013</i></h4>"
   ]
  },
  {
   "cell_type": "code",
   "execution_count": 55,
   "metadata": {},
   "outputs": [
    {
     "data": {
      "text/plain": [
       "count    454.000000\n",
       "mean      19.181180\n",
       "std        4.216436\n",
       "min       13.520000\n",
       "25%       14.708636\n",
       "50%       22.578182\n",
       "75%       23.055909\n",
       "max       23.883333\n",
       "Name: ten_year_ma, dtype: float64"
      ]
     },
     "execution_count": 55,
     "metadata": {},
     "output_type": "execute_result"
    }
   ],
   "source": [
    "df_local['ten_year_ma'].describe()"
   ]
  },
  {
   "cell_type": "markdown",
   "metadata": {},
   "source": [
    "<h4> Graph of the global temperatur over time </h4>"
   ]
  },
  {
   "cell_type": "code",
   "execution_count": 70,
   "metadata": {},
   "outputs": [
    {
     "data": {
      "image/png": "[encoded data removed]",
      "text/plain": [
       "<Figure size 432x288 with 1 Axes>"
      ]
     },
     "metadata": {
      "needs_background": "light"
     },
     "output_type": "display_data"
    }
   ],
   "source": [
    "temp_chart = sns.lineplot(x=\"year\",y=\"ten_year_ma\",data=df_global).set_title('Global Temperature Over Time')"
   ]
  },
  {
   "cell_type": "markdown",
   "metadata": {},
   "source": [
    "<h4> Graph of the kathmandu temperature over time </h4>"
   ]
  },
  {
   "cell_type": "code",
   "execution_count": 57,
   "metadata": {},
   "outputs": [
    {
     "data": {
      "image/png": "[encoded data removed]",
      "text/plain": [
       "<Figure size 432x288 with 1 Axes>"
      ]
     },
     "metadata": {
      "needs_background": "light"
     },
     "output_type": "display_data"
    }
   ],
   "source": [
    "temp_chart = sns.lineplot(x=\"year\",y=\"ten_year_ma\",data=df_kat).set_title('Kathmandu Temperature Over Time')"
   ]
  },
  {
   "cell_type": "markdown",
   "metadata": {},
   "source": [
    "<h4> Graph of the Miami temperature over time </h4>"
   ]
  },
  {
   "cell_type": "code",
   "execution_count": 58,
   "metadata": {},
   "outputs": [
    {
     "data": {
      "image/png": "[encoded data removed]",
      "text/plain": [
       "<Figure size 432x288 with 1 Axes>"
      ]
     },
     "metadata": {
      "needs_background": "light"
     },
     "output_type": "display_data"
    }
   ],
   "source": [
    "temp_chart = sns.lineplot(x=\"year\",y=\"ten_year_ma\",data=df_calif).set_title('Miami Temperature Over Time')"
   ]
  },
  {
   "cell_type": "markdown",
   "metadata": {},
   "source": [
    "<b>Observation</b><br>\n",
    "\n",
    "The city Miami had extreme temperature increase in the mid 1700 and substantial drop in the temperature in the early of the mid 1800.\n",
    "\n",
    "It made me clear that there will be rise in temperature as looking to the current trends of the global as well the miami average temperature rise."
   ]
  },
  {
   "cell_type": "code",
   "execution_count": 69,
   "metadata": {},
   "outputs": [
    {
     "data": {
      "text/plain": [
       "count     218.000000\n",
       "mean     1904.500000\n",
       "std        63.075352\n",
       "min      1796.000000\n",
       "25%      1850.250000\n",
       "50%      1904.500000\n",
       "75%      1958.750000\n",
       "max      2013.000000\n",
       "Name: year, dtype: float64"
      ]
     },
     "execution_count": 69,
     "metadata": {},
     "output_type": "execute_result"
    }
   ],
   "source": [
    "(df_kat['year']).describe()"
   ]
  },
  {
   "cell_type": "code",
   "execution_count": 68,
   "metadata": {},
   "outputs": [
    {
     "data": {
      "text/plain": [
       "count     266.000000\n",
       "mean     1882.500000\n",
       "std        76.931788\n",
       "min      1750.000000\n",
       "25%      1816.250000\n",
       "50%      1882.500000\n",
       "75%      1948.750000\n",
       "max      2015.000000\n",
       "Name: year, dtype: float64"
      ]
     },
     "execution_count": 68,
     "metadata": {},
     "output_type": "execute_result"
    }
   ],
   "source": [
    "(df_global['year']).describe()"
   ]
  },
  {
   "cell_type": "markdown",
   "metadata": {},
   "source": [
    "<h3> Temperature trends between kathmandu and global </h3>"
   ]
  },
  {
   "cell_type": "markdown",
   "metadata": {},
   "source": [
    "<b><i> Observation 1: Similarities in the temperature trends </i></b>\n",
    "<p> The lowest temperature of the kathmandu city in the year of 1819 whereas the lowest temperature globally  is in the year of 1817. This means that the temperature drop locally and globally simulateneously</p>\n"
   ]
  },
  {
   "cell_type": "markdown",
   "metadata": {},
   "source": [
    "<b><i>  Observation 2: Is your city hotter or cooler on average compared to the global average? Has the difference been consistent over time? </i></b>"
   ]
  },
  {
   "cell_type": "markdown",
   "metadata": {},
   "source": [
    "The Kathmandu city is getting hotter: 15.54 degree celsius at latest while the global temperature had 9.60 degree celsius. There is the extreme positive correlation betweet the year and the temperature. This likely to be conclude that the global temperature and kathmandu temperature is getting hotter over time."
   ]
  },
  {
   "cell_type": "markdown",
   "metadata": {},
   "source": [
    "#### Observation 3"
   ]
  },
  {
   "cell_type": "markdown",
   "metadata": {},
   "source": [
    "From the graph, in the year 1900, it seems like both the global and the kathmandu weather was getting hotter year by year. The overall trend of the weather is likely to be increase in the temperature in coming years may bring challenges like climate change, in consequences increasing the sea level."
   ]
  },
  {
   "cell_type": "markdown",
   "metadata": {},
   "source": [
    "#### Observation 4"
   ]
  },
  {
   "cell_type": "markdown",
   "metadata": {},
   "source": [
    "In the year between the 1800 to the 1850, the weather were inconsistent, meaning that there is extreme increase as well as decrease in temperature. \n",
    "\n",
    "From <a href=\"https://en.wikipedia.org/wiki/Global_temperature_record\">global data temperature</a> wikipedia page, I found that extreme fluctuations in the temperature during the year 1800 to the 1850 is mainly because of the fact that there were no any precised instrument to measure the temperature. As always, I noted that the invention of the thermometers was in the year of the 1850. May the data recorded from the 1800 and the 1850 is not precised as it from the 1850 and onwards."
   ]
  }
 ],
 "metadata": {
  "kernelspec": {
   "display_name": "Python 3",
   "language": "python",
   "name": "python3"
  },
  "language_info": {
   "codemirror_mode": {
    "name": "ipython",
    "version": 3
   },
   "file_extension": ".py",
   "mimetype": "text/x-python",
   "name": "python",
   "nbconvert_exporter": "python",
   "pygments_lexer": "ipython3",
   "version": "3.7.1"
  }
 },
 "nbformat": 4,
 "nbformat_minor": 2
}
